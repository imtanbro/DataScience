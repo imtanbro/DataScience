{
 "cells": [
  {
   "cell_type": "code",
   "execution_count": null,
   "metadata": {},
   "outputs": [],
   "source": []
  },
  {
   "cell_type": "code",
   "execution_count": 7,
   "metadata": {},
   "outputs": [
    {
     "data": {
      "text/plain": [
       "[OrderedDict([('Time', '0'),\n",
       "              ('V1', '-1.3598071336738'),\n",
       "              ('V2', '-0.0727811733098497'),\n",
       "              ('V3', '2.53634673796914'),\n",
       "              ('V4', '1.37815522427443'),\n",
       "              ('V5', '-0.338320769942518'),\n",
       "              ('V6', '0.462387777762292'),\n",
       "              ('V7', '0.239598554061257'),\n",
       "              ('V8', '0.0986979012610507'),\n",
       "              ('V9', '0.363786969611213'),\n",
       "              ('V10', '0.0907941719789316'),\n",
       "              ('V11', '-0.551599533260813'),\n",
       "              ('V12', '-0.617800855762348'),\n",
       "              ('V13', '-0.991389847235408'),\n",
       "              ('V14', '-0.311169353699879'),\n",
       "              ('V15', '1.46817697209427'),\n",
       "              ('V16', '-0.470400525259478'),\n",
       "              ('V17', '0.207971241929242'),\n",
       "              ('V18', '0.0257905801985591'),\n",
       "              ('V19', '0.403992960255733'),\n",
       "              ('V20', '0.251412098239705'),\n",
       "              ('V21', '-0.018306777944153'),\n",
       "              ('V22', '0.277837575558899'),\n",
       "              ('V23', '-0.110473910188767'),\n",
       "              ('V24', '0.0669280749146731'),\n",
       "              ('V25', '0.128539358273528'),\n",
       "              ('V26', '-0.189114843888824'),\n",
       "              ('V27', '0.133558376740387'),\n",
       "              ('V28', '-0.0210530534538215'),\n",
       "              ('Amount', '149.62'),\n",
       "              ('Class', '0')]),\n",
       " OrderedDict([('Time', '0'),\n",
       "              ('V1', '1.19185711131486'),\n",
       "              ('V2', '0.26615071205963'),\n",
       "              ('V3', '0.16648011335321'),\n",
       "              ('V4', '0.448154078460911'),\n",
       "              ('V5', '0.0600176492822243'),\n",
       "              ('V6', '-0.0823608088155687'),\n",
       "              ('V7', '-0.0788029833323113'),\n",
       "              ('V8', '0.0851016549148104'),\n",
       "              ('V9', '-0.255425128109186'),\n",
       "              ('V10', '-0.166974414004614'),\n",
       "              ('V11', '1.61272666105479'),\n",
       "              ('V12', '1.06523531137287'),\n",
       "              ('V13', '0.48909501589608'),\n",
       "              ('V14', '-0.143772296441519'),\n",
       "              ('V15', '0.635558093258208'),\n",
       "              ('V16', '0.463917041022171'),\n",
       "              ('V17', '-0.114804663102346'),\n",
       "              ('V18', '-0.183361270123994'),\n",
       "              ('V19', '-0.145783041325259'),\n",
       "              ('V20', '-0.0690831352230203'),\n",
       "              ('V21', '-0.225775248033138'),\n",
       "              ('V22', '-0.638671952771851'),\n",
       "              ('V23', '0.101288021253234'),\n",
       "              ('V24', '-0.339846475529127'),\n",
       "              ('V25', '0.167170404418143'),\n",
       "              ('V26', '0.125894532368176'),\n",
       "              ('V27', '-0.00898309914322813'),\n",
       "              ('V28', '0.0147241691924927'),\n",
       "              ('Amount', '2.69'),\n",
       "              ('Class', '0')])]"
      ]
     },
     "execution_count": 7,
     "metadata": {},
     "output_type": "execute_result"
    }
   ],
   "source": [
    "import csv\n",
    "%precision 2\n",
    "with open('creditcard.csv') as csvfile:\n",
    "    cc = list(csv.DictReader(csvfile))\n",
    "    \n",
    "cc[:2]"
   ]
  },
  {
   "cell_type": "code",
   "execution_count": 10,
   "metadata": {},
   "outputs": [
    {
     "data": {
      "text/plain": [
       "[OrderedDict([('Time', '0'),\n",
       "              ('V1', '-1.3598071336738'),\n",
       "              ('V2', '-0.0727811733098497'),\n",
       "              ('V3', '2.53634673796914'),\n",
       "              ('V4', '1.37815522427443'),\n",
       "              ('V5', '-0.338320769942518'),\n",
       "              ('V6', '0.462387777762292'),\n",
       "              ('V7', '0.239598554061257'),\n",
       "              ('V8', '0.0986979012610507'),\n",
       "              ('V9', '0.363786969611213'),\n",
       "              ('V10', '0.0907941719789316'),\n",
       "              ('V11', '-0.551599533260813'),\n",
       "              ('V12', '-0.617800855762348'),\n",
       "              ('V13', '-0.991389847235408'),\n",
       "              ('V14', '-0.311169353699879'),\n",
       "              ('V15', '1.46817697209427'),\n",
       "              ('V16', '-0.470400525259478'),\n",
       "              ('V17', '0.207971241929242'),\n",
       "              ('V18', '0.0257905801985591'),\n",
       "              ('V19', '0.403992960255733'),\n",
       "              ('V20', '0.251412098239705'),\n",
       "              ('V21', '-0.018306777944153'),\n",
       "              ('V22', '0.277837575558899'),\n",
       "              ('V23', '-0.110473910188767'),\n",
       "              ('V24', '0.0669280749146731'),\n",
       "              ('V25', '0.128539358273528'),\n",
       "              ('V26', '-0.189114843888824'),\n",
       "              ('V27', '0.133558376740387'),\n",
       "              ('V28', '-0.0210530534538215'),\n",
       "              ('Amount', '149.62'),\n",
       "              ('Class', '0')]),\n",
       " OrderedDict([('Time', '0'),\n",
       "              ('V1', '1.19185711131486'),\n",
       "              ('V2', '0.26615071205963'),\n",
       "              ('V3', '0.16648011335321'),\n",
       "              ('V4', '0.448154078460911'),\n",
       "              ('V5', '0.0600176492822243'),\n",
       "              ('V6', '-0.0823608088155687'),\n",
       "              ('V7', '-0.0788029833323113'),\n",
       "              ('V8', '0.0851016549148104'),\n",
       "              ('V9', '-0.255425128109186'),\n",
       "              ('V10', '-0.166974414004614'),\n",
       "              ('V11', '1.61272666105479'),\n",
       "              ('V12', '1.06523531137287'),\n",
       "              ('V13', '0.48909501589608'),\n",
       "              ('V14', '-0.143772296441519'),\n",
       "              ('V15', '0.635558093258208'),\n",
       "              ('V16', '0.463917041022171'),\n",
       "              ('V17', '-0.114804663102346'),\n",
       "              ('V18', '-0.183361270123994'),\n",
       "              ('V19', '-0.145783041325259'),\n",
       "              ('V20', '-0.0690831352230203'),\n",
       "              ('V21', '-0.225775248033138'),\n",
       "              ('V22', '-0.638671952771851'),\n",
       "              ('V23', '0.101288021253234'),\n",
       "              ('V24', '-0.339846475529127'),\n",
       "              ('V25', '0.167170404418143'),\n",
       "              ('V26', '0.125894532368176'),\n",
       "              ('V27', '-0.00898309914322813'),\n",
       "              ('V28', '0.0147241691924927'),\n",
       "              ('Amount', '2.69'),\n",
       "              ('Class', '0')])]"
      ]
     },
     "execution_count": 10,
     "metadata": {},
     "output_type": "execute_result"
    }
   ],
   "source": [
    "import csv\n",
    "\n",
    "with open('creditcard.csv') as csvfile:\n",
    "    cc = list(csv.DictReader(csvfile))\n",
    "    \n",
    "cc[:2]"
   ]
  },
  {
   "cell_type": "code",
   "execution_count": 12,
   "metadata": {},
   "outputs": [
    {
     "data": {
      "text/plain": [
       "284807"
      ]
     },
     "execution_count": 12,
     "metadata": {},
     "output_type": "execute_result"
    }
   ],
   "source": [
    "len(cc)"
   ]
  },
  {
   "cell_type": "code",
   "execution_count": 14,
   "metadata": {},
   "outputs": [
    {
     "data": {
      "text/plain": [
       "odict_keys(['Time', 'V1', 'V2', 'V3', 'V4', 'V5', 'V6', 'V7', 'V8', 'V9', 'V10', 'V11', 'V12', 'V13', 'V14', 'V15', 'V16', 'V17', 'V18', 'V19', 'V20', 'V21', 'V22', 'V23', 'V24', 'V25', 'V26', 'V27', 'V28', 'Amount', 'Class'])"
      ]
     },
     "execution_count": 14,
     "metadata": {},
     "output_type": "execute_result"
    }
   ],
   "source": [
    "cc[0].keys()"
   ]
  },
  {
   "cell_type": "code",
   "execution_count": 20,
   "metadata": {},
   "outputs": [
    {
     "data": {
      "text/plain": [
       "88.35"
      ]
     },
     "execution_count": 20,
     "metadata": {},
     "output_type": "execute_result"
    }
   ],
   "source": [
    "sum(float(d['Amount'])for d in cc) / len(cc)"
   ]
  },
  {
   "cell_type": "code",
   "execution_count": 22,
   "metadata": {},
   "outputs": [
    {
     "data": {
      "text/plain": [
       "{'0', '1'}"
      ]
     },
     "execution_count": 22,
     "metadata": {},
     "output_type": "execute_result"
    }
   ],
   "source": [
    "clas = set(d['Class'] for d in cc)\n",
    "clas"
   ]
  },
  {
   "cell_type": "code",
   "execution_count": 28,
   "metadata": {},
   "outputs": [
    {
     "data": {
      "text/plain": [
       "[OrderedDict([('', '1'),\n",
       "              ('manufacturer', 'audi'),\n",
       "              ('model', 'a4'),\n",
       "              ('displ', '1.8'),\n",
       "              ('year', '1999'),\n",
       "              ('cyl', '4'),\n",
       "              ('trans', 'auto(l5)'),\n",
       "              ('drv', 'f'),\n",
       "              ('cty', '18'),\n",
       "              ('hwy', '29'),\n",
       "              ('fl', 'p'),\n",
       "              ('class', 'compact')]),\n",
       " OrderedDict([('', '2'),\n",
       "              ('manufacturer', 'audi'),\n",
       "              ('model', 'a4'),\n",
       "              ('displ', '1.8'),\n",
       "              ('year', '1999'),\n",
       "              ('cyl', '4'),\n",
       "              ('trans', 'manual(m5)'),\n",
       "              ('drv', 'f'),\n",
       "              ('cty', '21'),\n",
       "              ('hwy', '29'),\n",
       "              ('fl', 'p'),\n",
       "              ('class', 'compact')]),\n",
       " OrderedDict([('', '3'),\n",
       "              ('manufacturer', 'audi'),\n",
       "              ('model', 'a4'),\n",
       "              ('displ', '2'),\n",
       "              ('year', '2008'),\n",
       "              ('cyl', '4'),\n",
       "              ('trans', 'manual(m6)'),\n",
       "              ('drv', 'f'),\n",
       "              ('cty', '20'),\n",
       "              ('hwy', '31'),\n",
       "              ('fl', 'p'),\n",
       "              ('class', 'compact')])]"
      ]
     },
     "execution_count": 28,
     "metadata": {},
     "output_type": "execute_result"
    }
   ],
   "source": [
    "with open('CSV/mpg.csv') as ds:\n",
    "    mpg = list(csv.DictReader(ds))\n",
    "    \n",
    "mpg[:3]"
   ]
  },
  {
   "cell_type": "code",
   "execution_count": 30,
   "metadata": {},
   "outputs": [
    {
     "data": {
      "text/plain": [
       "odict_keys(['', 'manufacturer', 'model', 'displ', 'year', 'cyl', 'trans', 'drv', 'cty', 'hwy', 'fl', 'class'])"
      ]
     },
     "execution_count": 30,
     "metadata": {},
     "output_type": "execute_result"
    }
   ],
   "source": [
    "mpg[0].keys()"
   ]
  },
  {
   "cell_type": "code",
   "execution_count": 32,
   "metadata": {},
   "outputs": [
    {
     "data": {
      "text/plain": [
       "3945.00"
      ]
     },
     "execution_count": 32,
     "metadata": {},
     "output_type": "execute_result"
    }
   ],
   "source": [
    "sum(float(d['cty']) for d in mpg)"
   ]
  },
  {
   "cell_type": "code",
   "execution_count": 33,
   "metadata": {},
   "outputs": [
    {
     "data": {
      "text/plain": [
       "16.86"
      ]
     },
     "execution_count": 33,
     "metadata": {},
     "output_type": "execute_result"
    }
   ],
   "source": [
    "sum(float(d['cty']) for d in mpg) / len(mpg)"
   ]
  },
  {
   "cell_type": "code",
   "execution_count": 35,
   "metadata": {},
   "outputs": [
    {
     "data": {
      "text/plain": [
       "23.44"
      ]
     },
     "execution_count": 35,
     "metadata": {},
     "output_type": "execute_result"
    }
   ],
   "source": [
    "sum(float(d['hwy']) for d in mpg) / len(mpg)"
   ]
  },
  {
   "cell_type": "code",
   "execution_count": 39,
   "metadata": {},
   "outputs": [
    {
     "data": {
      "text/plain": [
       "{'4', '5', '6', '8'}"
      ]
     },
     "execution_count": 39,
     "metadata": {},
     "output_type": "execute_result"
    }
   ],
   "source": [
    "cyl = set(d['cyl'] for d in mpg)\n",
    "cyl"
   ]
  },
  {
   "cell_type": "code",
   "execution_count": 73,
   "metadata": {},
   "outputs": [
    {
     "ename": "TypeError",
     "evalue": "'float' object is not subscriptable",
     "output_type": "error",
     "traceback": [
      "\u001b[0;31m---------------------------------------------------------------------------\u001b[0m",
      "\u001b[0;31mTypeError\u001b[0m                                 Traceback (most recent call last)",
      "\u001b[0;32m<ipython-input-73-bf86e7d8aa75>\u001b[0m in \u001b[0;36m<module>\u001b[0;34m\u001b[0m\n\u001b[1;32m      9\u001b[0m             \u001b[0mcyltypecount\u001b[0m \u001b[0;34m+=\u001b[0m \u001b[0;36m1\u001b[0m\u001b[0;34m\u001b[0m\u001b[0;34m\u001b[0m\u001b[0m\n\u001b[1;32m     10\u001b[0m     \u001b[0mctympgbycyl\u001b[0m\u001b[0;34m.\u001b[0m\u001b[0mappend\u001b[0m\u001b[0;34m(\u001b[0m\u001b[0msummpg\u001b[0m\u001b[0;34m/\u001b[0m\u001b[0mcyltypecount\u001b[0m\u001b[0;34m)\u001b[0m\u001b[0;34m\u001b[0m\u001b[0;34m\u001b[0m\u001b[0m\n\u001b[0;32m---> 11\u001b[0;31m \u001b[0mctympgbycyl\u001b[0m\u001b[0;34m.\u001b[0m\u001b[0msort\u001b[0m\u001b[0;34m(\u001b[0m\u001b[0mkey\u001b[0m\u001b[0;34m=\u001b[0m\u001b[0;32mlambda\u001b[0m \u001b[0mx\u001b[0m\u001b[0;34m:\u001b[0m \u001b[0mx\u001b[0m\u001b[0;34m[\u001b[0m\u001b[0;36m1\u001b[0m\u001b[0;34m]\u001b[0m\u001b[0;34m)\u001b[0m\u001b[0;34m\u001b[0m\u001b[0;34m\u001b[0m\u001b[0m\n\u001b[0m\u001b[1;32m     12\u001b[0m \u001b[0mctympgbycyl\u001b[0m\u001b[0;34m\u001b[0m\u001b[0;34m\u001b[0m\u001b[0m\n",
      "\u001b[0;32m<ipython-input-73-bf86e7d8aa75>\u001b[0m in \u001b[0;36m<lambda>\u001b[0;34m(x)\u001b[0m\n\u001b[1;32m      9\u001b[0m             \u001b[0mcyltypecount\u001b[0m \u001b[0;34m+=\u001b[0m \u001b[0;36m1\u001b[0m\u001b[0;34m\u001b[0m\u001b[0;34m\u001b[0m\u001b[0m\n\u001b[1;32m     10\u001b[0m     \u001b[0mctympgbycyl\u001b[0m\u001b[0;34m.\u001b[0m\u001b[0mappend\u001b[0m\u001b[0;34m(\u001b[0m\u001b[0msummpg\u001b[0m\u001b[0;34m/\u001b[0m\u001b[0mcyltypecount\u001b[0m\u001b[0;34m)\u001b[0m\u001b[0;34m\u001b[0m\u001b[0;34m\u001b[0m\u001b[0m\n\u001b[0;32m---> 11\u001b[0;31m \u001b[0mctympgbycyl\u001b[0m\u001b[0;34m.\u001b[0m\u001b[0msort\u001b[0m\u001b[0;34m(\u001b[0m\u001b[0mkey\u001b[0m\u001b[0;34m=\u001b[0m\u001b[0;32mlambda\u001b[0m \u001b[0mx\u001b[0m\u001b[0;34m:\u001b[0m \u001b[0mx\u001b[0m\u001b[0;34m[\u001b[0m\u001b[0;36m1\u001b[0m\u001b[0;34m]\u001b[0m\u001b[0;34m)\u001b[0m\u001b[0;34m\u001b[0m\u001b[0;34m\u001b[0m\u001b[0m\n\u001b[0m\u001b[1;32m     12\u001b[0m \u001b[0mctympgbycyl\u001b[0m\u001b[0;34m\u001b[0m\u001b[0;34m\u001b[0m\u001b[0m\n",
      "\u001b[0;31mTypeError\u001b[0m: 'float' object is not subscriptable"
     ]
    }
   ],
   "source": [
    "ctympgbycyl = []\n",
    "\n",
    "for c in cyl:\n",
    "    summpg = 0\n",
    "    cyltypecount = 0\n",
    "    for d in mpg:\n",
    "        if d['cyl'] == c:\n",
    "            summpg += float(d['cty'])\n",
    "            cyltypecount += 1\n",
    "    ctympgbycyl.append(summpg/cyltypecount)\n",
    "ctympgbycyl.sort(key=lambda x: x[1])\n",
    "ctympgbycyl"
   ]
  },
  {
   "cell_type": "code",
   "execution_count": 71,
   "metadata": {},
   "outputs": [
    {
     "data": {
      "text/plain": [
       "{'2seater', 'compact', 'midsize', 'minivan', 'pickup', 'subcompact', 'suv'}"
      ]
     },
     "execution_count": 71,
     "metadata": {},
     "output_type": "execute_result"
    }
   ],
   "source": [
    "car = set(d['class'] for d in mpg)\n",
    "car"
   ]
  },
  {
   "cell_type": "code",
   "execution_count": 72,
   "metadata": {},
   "outputs": [
    {
     "data": {
      "text/plain": [
       "[('pickup', 16.88),\n",
       " ('suv', 18.13),\n",
       " ('minivan', 22.36),\n",
       " ('2seater', 24.80),\n",
       " ('midsize', 27.29),\n",
       " ('subcompact', 28.14),\n",
       " ('compact', 28.30)]"
      ]
     },
     "execution_count": 72,
     "metadata": {},
     "output_type": "execute_result"
    }
   ],
   "source": [
    "carhwmpg = []\n",
    "\n",
    "for car in car:\n",
    "    sumhwmpg = 0\n",
    "    count = 0\n",
    "    for d in mpg:\n",
    "        if d['class'] == car:\n",
    "            sumhwmpg += float(d['hwy'])\n",
    "            count += 1\n",
    "    carhwmpg.append((car,sumhwmpg/count))\n",
    "carhwmpg.sort(key=lambda x: x[1])\n",
    "carhwmpg"
   ]
  },
  {
   "cell_type": "code",
   "execution_count": 61,
   "metadata": {},
   "outputs": [
    {
     "data": {
      "text/plain": [
       "{'2seater', 'compact', 'midsize', 'minivan', 'pickup', 'subcompact', 'suv'}"
      ]
     },
     "execution_count": 61,
     "metadata": {},
     "output_type": "execute_result"
    }
   ],
   "source": [
    "vehicleclass = set(d['class'] for d in mpg) # what are the class types\n",
    "vehicleclass"
   ]
  },
  {
   "cell_type": "code",
   "execution_count": null,
   "metadata": {},
   "outputs": [],
   "source": []
  },
  {
   "cell_type": "code",
   "execution_count": 62,
   "metadata": {},
   "outputs": [
    {
     "data": {
      "text/plain": [
       "[('pickup', 16.88),\n",
       " ('suv', 18.13),\n",
       " ('minivan', 22.36),\n",
       " ('2seater', 24.80),\n",
       " ('midsize', 27.29),\n",
       " ('subcompact', 28.14),\n",
       " ('compact', 28.30)]"
      ]
     },
     "execution_count": 62,
     "metadata": {},
     "output_type": "execute_result"
    }
   ],
   "source": [
    "HwyMpgByClass = []\n",
    "\n",
    "for t in vehicleclass: # iterate over all the vehicle classes\n",
    "    summpg = 0\n",
    "    vclasscount = 0\n",
    "    for d in mpg: # iterate over all dictionaries\n",
    "        if d['class'] == t: # if the cylinder amount type matches,\n",
    "            summpg += float(d['hwy']) # add the hwy mpg\n",
    "            vclasscount += 1 # increment the count\n",
    "    HwyMpgByClass.append((t, summpg / vclasscount)) # append the tuple ('class', 'avg mpg')\n",
    "\n",
    "HwyMpgByClass.sort(key=lambda x: x[1])\n",
    "HwyMpgByClass"
   ]
  },
  {
   "cell_type": "code",
   "execution_count": 9,
   "metadata": {},
   "outputs": [
    {
     "data": {
      "text/plain": [
       "[OrderedDict([('', '1'),\n",
       "              ('manufacturer', 'audi'),\n",
       "              ('model', 'a4'),\n",
       "              ('displ', '1.8'),\n",
       "              ('year', '1999'),\n",
       "              ('cyl', '4'),\n",
       "              ('trans', 'auto(l5)'),\n",
       "              ('drv', 'f'),\n",
       "              ('cty', '18'),\n",
       "              ('hwy', '29'),\n",
       "              ('fl', 'p'),\n",
       "              ('class', 'compact')]),\n",
       " OrderedDict([('', '2'),\n",
       "              ('manufacturer', 'audi'),\n",
       "              ('model', 'a4'),\n",
       "              ('displ', '1.8'),\n",
       "              ('year', '1999'),\n",
       "              ('cyl', '4'),\n",
       "              ('trans', 'manual(m5)'),\n",
       "              ('drv', 'f'),\n",
       "              ('cty', '21'),\n",
       "              ('hwy', '29'),\n",
       "              ('fl', 'p'),\n",
       "              ('class', 'compact')]),\n",
       " OrderedDict([('', '3'),\n",
       "              ('manufacturer', 'audi'),\n",
       "              ('model', 'a4'),\n",
       "              ('displ', '2'),\n",
       "              ('year', '2008'),\n",
       "              ('cyl', '4'),\n",
       "              ('trans', 'manual(m6)'),\n",
       "              ('drv', 'f'),\n",
       "              ('cty', '20'),\n",
       "              ('hwy', '31'),\n",
       "              ('fl', 'p'),\n",
       "              ('class', 'compact')])]"
      ]
     },
     "execution_count": 9,
     "metadata": {},
     "output_type": "execute_result"
    }
   ],
   "source": [
    "import csv\n",
    "with open('CSV/mpg.csv') as mpg:\n",
    "    mpg = list(csv.DictReader(mpg))\n",
    "    \n",
    "mpg[:3]\n"
   ]
  },
  {
   "cell_type": "code",
   "execution_count": 14,
   "metadata": {},
   "outputs": [
    {
     "data": {
      "text/plain": [
       "16.86"
      ]
     },
     "execution_count": 14,
     "metadata": {},
     "output_type": "execute_result"
    }
   ],
   "source": [
    "%precision 2\n",
    "sum(float(d['cty']) for d in mpg) / len(mpg)\n"
   ]
  },
  {
   "cell_type": "code",
   "execution_count": 20,
   "metadata": {},
   "outputs": [
    {
     "data": {
      "text/plain": [
       "{'4', 'f', 'r'}"
      ]
     },
     "execution_count": 20,
     "metadata": {},
     "output_type": "execute_result"
    }
   ],
   "source": [
    "drv = set(d['drv']for d in mpg)\n",
    "drv"
   ]
  },
  {
   "cell_type": "code",
   "execution_count": 23,
   "metadata": {},
   "outputs": [
    {
     "data": {
      "text/plain": [
       "[('r', 14.08), ('4', 14.33), ('f', 19.97)]"
      ]
     },
     "execution_count": 23,
     "metadata": {},
     "output_type": "execute_result"
    }
   ],
   "source": [
    "hwmpg = []\n",
    "\n",
    "for d in drv:\n",
    "    sum = 0\n",
    "    count = 0\n",
    "    for m in mpg:\n",
    "        if m['drv'] == d:\n",
    "            sum += float(m['cty'])\n",
    "            count += 1\n",
    "    hwmpg.append((d,sum/count))\n",
    "    \n",
    "hwmpg.sort(key=lambda x: x[1])\n",
    "hwmpg\n",
    "    \n"
   ]
  },
  {
   "cell_type": "markdown",
   "metadata": {},
   "source": [
    "# Dates and Times\n",
    "\n",
    "How to add Date and Time using python"
   ]
  },
  {
   "cell_type": "code",
   "execution_count": 25,
   "metadata": {},
   "outputs": [],
   "source": [
    "import datetime as dt\n",
    "import time as tm"
   ]
  },
  {
   "cell_type": "code",
   "execution_count": 26,
   "metadata": {},
   "outputs": [
    {
     "data": {
      "text/plain": [
       "1594873015.31"
      ]
     },
     "execution_count": 26,
     "metadata": {},
     "output_type": "execute_result"
    }
   ],
   "source": [
    "tm.time()\n"
   ]
  },
  {
   "cell_type": "code",
   "execution_count": 27,
   "metadata": {},
   "outputs": [
    {
     "data": {
      "text/plain": [
       "datetime.time(0, 0)"
      ]
     },
     "execution_count": 27,
     "metadata": {},
     "output_type": "execute_result"
    }
   ],
   "source": [
    "dt.time()"
   ]
  },
  {
   "cell_type": "code",
   "execution_count": 31,
   "metadata": {},
   "outputs": [],
   "source": [
    "dtnow = dt.datetime.fromtimestamp(tm.time())"
   ]
  },
  {
   "cell_type": "code",
   "execution_count": 34,
   "metadata": {},
   "outputs": [
    {
     "data": {
      "text/plain": [
       "(16, 7, 2020)"
      ]
     },
     "execution_count": 34,
     "metadata": {},
     "output_type": "execute_result"
    }
   ],
   "source": [
    "dtnow.day, dtnow.month , dtnow.year "
   ]
  },
  {
   "cell_type": "code",
   "execution_count": 40,
   "metadata": {},
   "outputs": [
    {
     "data": {
      "text/plain": [
       "datetime.date(2020, 7, 16)"
      ]
     },
     "execution_count": 40,
     "metadata": {},
     "output_type": "execute_result"
    }
   ],
   "source": [
    "delta = dt.timedelta(days = 10)\n",
    "today = dt.date.today()\n",
    "today\n"
   ]
  },
  {
   "cell_type": "code",
   "execution_count": 41,
   "metadata": {},
   "outputs": [
    {
     "data": {
      "text/plain": [
       "datetime.date(2020, 7, 6)"
      ]
     },
     "execution_count": 41,
     "metadata": {},
     "output_type": "execute_result"
    }
   ],
   "source": [
    "today - delta\n"
   ]
  },
  {
   "cell_type": "code",
   "execution_count": 42,
   "metadata": {},
   "outputs": [
    {
     "data": {
      "text/plain": [
       "True"
      ]
     },
     "execution_count": 42,
     "metadata": {},
     "output_type": "execute_result"
    }
   ],
   "source": [
    "today > today-delta"
   ]
  },
  {
   "cell_type": "code",
   "execution_count": 70,
   "metadata": {},
   "outputs": [],
   "source": [
    "class person:\n",
    "    department = \"Student info\"\n",
    "    \n",
    "    def set_name(self,name):\n",
    "        self.name = name\n",
    "        print(\"Hey {}\".format(name))\n",
    "    def set_location(self,location):\n",
    "        self.location = location\n",
    "        print(\"You are at {}\".format(self.location)) \n",
    "        "
   ]
  },
  {
   "cell_type": "code",
   "execution_count": 74,
   "metadata": {},
   "outputs": [
    {
     "name": "stdout",
     "output_type": "stream",
     "text": [
      "Hey Tanmay\n",
      "You are at Nashik\n"
     ]
    }
   ],
   "source": [
    "p = person()\n",
    "p.set_name('Tanmay')\n",
    "p.set_location('Nashik')"
   ]
  },
  {
   "cell_type": "code",
   "execution_count": 79,
   "metadata": {},
   "outputs": [
    {
     "name": "stdout",
     "output_type": "stream",
     "text": [
      "1\n",
      "1\n",
      "6\n",
      "2\n",
      "9.5\n"
     ]
    }
   ],
   "source": [
    "a = [1,2,6,2,9.6]\n",
    "b = [2,1,7,4,9.5]\n",
    "mini = map(min,a,b)\n",
    "for i in mini:\n",
    "    print(i)"
   ]
  },
  {
   "cell_type": "code",
   "execution_count": 102,
   "metadata": {},
   "outputs": [
    {
     "data": {
      "text/plain": [
       "['Dr. Brooks', 'Dr. Collins-Thompson', 'Dr. Vydiswaran', 'Dr. Romero']"
      ]
     },
     "execution_count": 102,
     "metadata": {},
     "output_type": "execute_result"
    }
   ],
   "source": [
    "people = ['Dr. Christopher Brooks', 'Dr. Kevyn Collins-Thompson', 'Dr. VG Vinod Vydiswaran', 'Dr. Daniel Romero']\n",
    "\n",
    "def split_title_and_name(person):\n",
    "    f = person.split()[0]\n",
    "    l = person.split()[-1]\n",
    "    return \"{} {}\".format(f,l)\n",
    "a = lambda person : \"{} {}\".format(person.split()[0],person.split()[-1])\n",
    "# list(map(split_title_and_name,people))\n",
    "list(map(a,people))\n",
    "\n"
   ]
  },
  {
   "cell_type": "code",
   "execution_count": 97,
   "metadata": {},
   "outputs": [],
   "source": [
    "a = lambda a , b, c : a+b+c"
   ]
  },
  {
   "cell_type": "code",
   "execution_count": 98,
   "metadata": {},
   "outputs": [
    {
     "data": {
      "text/plain": [
       "6"
      ]
     },
     "execution_count": 98,
     "metadata": {},
     "output_type": "execute_result"
    }
   ],
   "source": [
    "a(1,2,3)"
   ]
  },
  {
   "cell_type": "code",
   "execution_count": null,
   "metadata": {},
   "outputs": [],
   "source": []
  },
  {
   "cell_type": "code",
   "execution_count": null,
   "metadata": {},
   "outputs": [],
   "source": []
  }
 ],
 "metadata": {
  "kernelspec": {
   "display_name": "Python 3",
   "language": "python",
   "name": "python3"
  },
  "language_info": {
   "codemirror_mode": {
    "name": "ipython",
    "version": 3
   },
   "file_extension": ".py",
   "mimetype": "text/x-python",
   "name": "python",
   "nbconvert_exporter": "python",
   "pygments_lexer": "ipython3",
   "version": "3.7.6"
  }
 },
 "nbformat": 4,
 "nbformat_minor": 4
}
